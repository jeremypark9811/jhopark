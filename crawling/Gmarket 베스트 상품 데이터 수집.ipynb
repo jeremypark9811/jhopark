{
 "cells": [
  {
   "cell_type": "markdown",
   "metadata": {},
   "source": [
    "### Gmarket 베스트 상품 데이터 수집"
   ]
  },
  {
   "cell_type": "code",
   "execution_count": 8,
   "metadata": {},
   "outputs": [],
   "source": [
    "import requests\n",
    "from bs4 import BeautifulSoup\n",
    "import pandas as pd"
   ]
  },
  {
   "cell_type": "code",
   "execution_count": 9,
   "metadata": {},
   "outputs": [
    {
     "data": {
      "text/plain": [
       "200"
      ]
     },
     "execution_count": 9,
     "metadata": {},
     "output_type": "execute_result"
    }
   ],
   "source": [
    "url = \"http://corners.gmarket.co.kr/Bestsellers\"\n",
    "response = requests.get(url)\n",
    "dom = BeautifulSoup(response.content, \"html.parser\")\n",
    "items = dom.select(\"#gBestWrap > div > div:nth-child(6) > div:nth-child(3) > ul > li\")\n",
    "len(items)"
   ]
  },
  {
   "cell_type": "code",
   "execution_count": 10,
   "metadata": {},
   "outputs": [
    {
     "data": {
      "text/html": [
       "<div>\n",
       "<style scoped>\n",
       "    .dataframe tbody tr th:only-of-type {\n",
       "        vertical-align: middle;\n",
       "    }\n",
       "\n",
       "    .dataframe tbody tr th {\n",
       "        vertical-align: top;\n",
       "    }\n",
       "\n",
       "    .dataframe thead th {\n",
       "        text-align: right;\n",
       "    }\n",
       "</style>\n",
       "<table border=\"1\" class=\"dataframe\">\n",
       "  <thead>\n",
       "    <tr style=\"text-align: right;\">\n",
       "      <th></th>\n",
       "      <th>link</th>\n",
       "      <th>title</th>\n",
       "      <th>o-price</th>\n",
       "      <th>s-price</th>\n",
       "    </tr>\n",
       "  </thead>\n",
       "  <tbody>\n",
       "    <tr>\n",
       "      <td>195</td>\n",
       "      <td>http://item.gmarket.co.kr/Item?goodscode=14792...</td>\n",
       "      <td>[나무야나무야]나무야 도톰한 3겹데코 30m 30롤 3팩/화장지/휴지</td>\n",
       "      <td></td>\n",
       "      <td>31,900</td>\n",
       "    </tr>\n",
       "    <tr>\n",
       "      <td>196</td>\n",
       "      <td>http://item.gmarket.co.kr/Item?goodscode=17371...</td>\n",
       "      <td>[제스파]바디볼트 전신 안마기 진동 무선 마사지건 ZP2420</td>\n",
       "      <td>119,000</td>\n",
       "      <td>116,620</td>\n",
       "    </tr>\n",
       "    <tr>\n",
       "      <td>197</td>\n",
       "      <td>http://item.gmarket.co.kr/Item?goodscode=15089...</td>\n",
       "      <td>[매일유업]매일 상하 유기농 어린이치즈 3단계 110매/치즈</td>\n",
       "      <td>29,000</td>\n",
       "      <td>26,900</td>\n",
       "    </tr>\n",
       "    <tr>\n",
       "      <td>198</td>\n",
       "      <td>http://item.gmarket.co.kr/Item?goodscode=13073...</td>\n",
       "      <td>[크레모아]LED 캠핑랜턴 울트라 미니 블랙에디션 (CLC-400BK)</td>\n",
       "      <td></td>\n",
       "      <td>59,000</td>\n",
       "    </tr>\n",
       "    <tr>\n",
       "      <td>199</td>\n",
       "      <td>http://item.gmarket.co.kr/Item?goodscode=17952...</td>\n",
       "      <td>20SS 할리마리 플라워 풍기 인견 원피스2종</td>\n",
       "      <td>59,800</td>\n",
       "      <td>52,820</td>\n",
       "    </tr>\n",
       "  </tbody>\n",
       "</table>\n",
       "</div>"
      ],
      "text/plain": [
       "                                                  link  \\\n",
       "195  http://item.gmarket.co.kr/Item?goodscode=14792...   \n",
       "196  http://item.gmarket.co.kr/Item?goodscode=17371...   \n",
       "197  http://item.gmarket.co.kr/Item?goodscode=15089...   \n",
       "198  http://item.gmarket.co.kr/Item?goodscode=13073...   \n",
       "199  http://item.gmarket.co.kr/Item?goodscode=17952...   \n",
       "\n",
       "                                       title  o-price  s-price  \n",
       "195   [나무야나무야]나무야 도톰한 3겹데코 30m 30롤 3팩/화장지/휴지            31,900  \n",
       "196       [제스파]바디볼트 전신 안마기 진동 무선 마사지건 ZP2420  119,000  116,620  \n",
       "197        [매일유업]매일 상하 유기농 어린이치즈 3단계 110매/치즈   29,000   26,900  \n",
       "198  [크레모아]LED 캠핑랜턴 울트라 미니 블랙에디션 (CLC-400BK)            59,000  \n",
       "199                20SS 할리마리 플라워 풍기 인견 원피스2종   59,800   52,820  "
      ]
     },
     "execution_count": 10,
     "metadata": {},
     "output_type": "execute_result"
    }
   ],
   "source": [
    "datas = []\n",
    "for item in items:\n",
    "    data = {\n",
    "        \"link\": item.select_one(\".itemname\").get(\"href\"),\n",
    "        \"title\": item.select_one(\".itemname\").text,\n",
    "        \"o-price\": item.select_one(\".o-price\").text.strip().split(\"원\")[0],\n",
    "        \"s-price\": item.select_one(\".s-price\").text.strip().split(\"원\")[0],\n",
    "    }\n",
    "    datas.append(data)\n",
    "    \n",
    "items_df = pd.DataFrame(datas)\n",
    "items_df.tail()"
   ]
  },
  {
   "cell_type": "code",
   "execution_count": 11,
   "metadata": {},
   "outputs": [],
   "source": [
    "idx = items_df[\"o-price\"] == \"\""
   ]
  },
  {
   "cell_type": "code",
   "execution_count": 12,
   "metadata": {},
   "outputs": [],
   "source": [
    "items_df.loc[idx, \"o-price\"] = items_df[\"s-price\"]"
   ]
  },
  {
   "cell_type": "code",
   "execution_count": 13,
   "metadata": {},
   "outputs": [
    {
     "data": {
      "text/html": [
       "<div>\n",
       "<style scoped>\n",
       "    .dataframe tbody tr th:only-of-type {\n",
       "        vertical-align: middle;\n",
       "    }\n",
       "\n",
       "    .dataframe tbody tr th {\n",
       "        vertical-align: top;\n",
       "    }\n",
       "\n",
       "    .dataframe thead th {\n",
       "        text-align: right;\n",
       "    }\n",
       "</style>\n",
       "<table border=\"1\" class=\"dataframe\">\n",
       "  <thead>\n",
       "    <tr style=\"text-align: right;\">\n",
       "      <th></th>\n",
       "      <th>code</th>\n",
       "      <th>title</th>\n",
       "      <th>o-price</th>\n",
       "      <th>s-price</th>\n",
       "      <th>link</th>\n",
       "    </tr>\n",
       "  </thead>\n",
       "  <tbody>\n",
       "    <tr>\n",
       "      <td>195</td>\n",
       "      <td>1479209063</td>\n",
       "      <td>[나무야나무야]나무야 도톰한 3겹데코 30m 30롤 3팩/화장지/휴지</td>\n",
       "      <td>31,900</td>\n",
       "      <td>31,900</td>\n",
       "      <td>http://item.gmarket.co.kr/Item?goodscode=14792...</td>\n",
       "    </tr>\n",
       "    <tr>\n",
       "      <td>196</td>\n",
       "      <td>1737189878</td>\n",
       "      <td>[제스파]바디볼트 전신 안마기 진동 무선 마사지건 ZP2420</td>\n",
       "      <td>119,000</td>\n",
       "      <td>116,620</td>\n",
       "      <td>http://item.gmarket.co.kr/Item?goodscode=17371...</td>\n",
       "    </tr>\n",
       "    <tr>\n",
       "      <td>197</td>\n",
       "      <td>1508911526</td>\n",
       "      <td>[매일유업]매일 상하 유기농 어린이치즈 3단계 110매/치즈</td>\n",
       "      <td>29,000</td>\n",
       "      <td>26,900</td>\n",
       "      <td>http://item.gmarket.co.kr/Item?goodscode=15089...</td>\n",
       "    </tr>\n",
       "    <tr>\n",
       "      <td>198</td>\n",
       "      <td>1307322003</td>\n",
       "      <td>[크레모아]LED 캠핑랜턴 울트라 미니 블랙에디션 (CLC-400BK)</td>\n",
       "      <td>59,000</td>\n",
       "      <td>59,000</td>\n",
       "      <td>http://item.gmarket.co.kr/Item?goodscode=13073...</td>\n",
       "    </tr>\n",
       "    <tr>\n",
       "      <td>199</td>\n",
       "      <td>1795266739</td>\n",
       "      <td>20SS 할리마리 플라워 풍기 인견 원피스2종</td>\n",
       "      <td>59,800</td>\n",
       "      <td>52,820</td>\n",
       "      <td>http://item.gmarket.co.kr/Item?goodscode=17952...</td>\n",
       "    </tr>\n",
       "  </tbody>\n",
       "</table>\n",
       "</div>"
      ],
      "text/plain": [
       "           code                                    title  o-price  s-price  \\\n",
       "195  1479209063   [나무야나무야]나무야 도톰한 3겹데코 30m 30롤 3팩/화장지/휴지   31,900   31,900   \n",
       "196  1737189878       [제스파]바디볼트 전신 안마기 진동 무선 마사지건 ZP2420  119,000  116,620   \n",
       "197  1508911526        [매일유업]매일 상하 유기농 어린이치즈 3단계 110매/치즈   29,000   26,900   \n",
       "198  1307322003  [크레모아]LED 캠핑랜턴 울트라 미니 블랙에디션 (CLC-400BK)   59,000   59,000   \n",
       "199  1795266739                20SS 할리마리 플라워 풍기 인견 원피스2종   59,800   52,820   \n",
       "\n",
       "                                                  link  \n",
       "195  http://item.gmarket.co.kr/Item?goodscode=14792...  \n",
       "196  http://item.gmarket.co.kr/Item?goodscode=17371...  \n",
       "197  http://item.gmarket.co.kr/Item?goodscode=15089...  \n",
       "198  http://item.gmarket.co.kr/Item?goodscode=13073...  \n",
       "199  http://item.gmarket.co.kr/Item?goodscode=17952...  "
      ]
     },
     "execution_count": 13,
     "metadata": {},
     "output_type": "execute_result"
    }
   ],
   "source": [
    "items_df[\"code\"] = items_df[\"link\"].apply(lambda link: link.split(\"goodscode=\")[1].split(\"&\")[0])\n",
    "items_df = items_df[[\"code\", \"title\", \"o-price\", \"s-price\", \"link\"]]\n",
    "items_df.tail()"
   ]
  },
  {
   "cell_type": "markdown",
   "metadata": {},
   "source": [
    "#### 이미지 파일 저장"
   ]
  },
  {
   "cell_type": "code",
   "execution_count": 14,
   "metadata": {},
   "outputs": [],
   "source": [
    "import os"
   ]
  },
  {
   "cell_type": "code",
   "execution_count": 15,
   "metadata": {},
   "outputs": [],
   "source": [
    "# 디렉토리 만들기\n",
    "if not os.path.exists(\"datas\"):\n",
    "    os.makedirs(\"datas\")"
   ]
  },
  {
   "cell_type": "code",
   "execution_count": 16,
   "metadata": {},
   "outputs": [],
   "source": [
    "def save_file(title, link):\n",
    "    response = requests.get(link)\n",
    "    with open('datas/{}.png'.format(title), 'wb') as f:\n",
    "        f.write(response.content)"
   ]
  },
  {
   "cell_type": "code",
   "execution_count": 17,
   "metadata": {},
   "outputs": [],
   "source": [
    "for idx, data in items_df.iterrows():\n",
    "    img_link = \"http://gdimg.gmarket.co.kr/{}/still/300\".format(data[\"code\"])\n",
    "    idx = \"0\" * (3 - len(str(idx))) + str(idx)   \n",
    "    save_file(\"{}_{}\".format(idx, data[\"code\"]), img_link)"
   ]
  },
  {
   "cell_type": "code",
   "execution_count": 18,
   "metadata": {},
   "outputs": [
    {
     "name": "stderr",
     "output_type": "stream",
     "text": [
      "'rm'은(는) 내부 또는 외부 명령, 실행할 수 있는 프로그램, 또는\n",
      "배치 파일이 아닙니다.\n"
     ]
    }
   ],
   "source": [
    "!rm -rf datas"
   ]
  },
  {
   "cell_type": "code",
   "execution_count": null,
   "metadata": {},
   "outputs": [],
   "source": []
  }
 ],
 "metadata": {
  "kernelspec": {
   "display_name": "Python 3",
   "language": "python",
   "name": "python3"
  },
  "language_info": {
   "codemirror_mode": {
    "name": "ipython",
    "version": 3
   },
   "file_extension": ".py",
   "mimetype": "text/x-python",
   "name": "python",
   "nbconvert_exporter": "python",
   "pygments_lexer": "ipython3",
   "version": "3.7.4"
  }
 },
 "nbformat": 4,
 "nbformat_minor": 4
}
